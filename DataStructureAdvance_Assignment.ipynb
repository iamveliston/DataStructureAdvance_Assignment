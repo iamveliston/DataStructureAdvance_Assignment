{
 "cells": [
  {
   "cell_type": "markdown",
   "metadata": {},
   "source": [
    "1. Write a code to reverse a string."
   ]
  },
  {
   "cell_type": "code",
   "execution_count": 13,
   "metadata": {},
   "outputs": [
    {
     "name": "stdout",
     "output_type": "stream",
     "text": [
      "olleh\n"
     ]
    }
   ],
   "source": [
    "def reverse_string(string):\n",
    "  \"\"\"Reverses a given string.\"\"\"\n",
    "  return string[::-1]\n",
    "\n",
    "string = \"hello\"\n",
    "reversed_string = reverse_string(string)\n",
    "print(reversed_string) \n"
   ]
  },
  {
   "cell_type": "markdown",
   "metadata": {},
   "source": [
    "2. Write a code to count the number of vowels in a string."
   ]
  },
  {
   "cell_type": "code",
   "execution_count": 14,
   "metadata": {},
   "outputs": [
    {
     "name": "stdout",
     "output_type": "stream",
     "text": [
      "3\n"
     ]
    }
   ],
   "source": [
    "def count_vowels(string):\n",
    "  \"\"\"Counts the number of vowels in a string.\"\"\"\n",
    "  vowels = \"aeiouAEIOU\"\n",
    "  count = 0\n",
    "  for char in string:\n",
    "    if char in vowels:\n",
    "      count += 1\n",
    "  return count\n",
    "\n",
    "string = \"hello, world!\"\n",
    "vowel_count = count_vowels(string)\n",
    "print(vowel_count) "
   ]
  },
  {
   "cell_type": "markdown",
   "metadata": {},
   "source": [
    "3. Write a code to check if a given string is a palindrome or not."
   ]
  },
  {
   "cell_type": "code",
   "execution_count": 15,
   "metadata": {},
   "outputs": [
    {
     "name": "stdout",
     "output_type": "stream",
     "text": [
      "True\n"
     ]
    }
   ],
   "source": [
    "def is_palindrome(string):\n",
    "  \"\"\"Checks if a string is a palindrome.\"\"\"\n",
    "  cleaned_string = string.lower().replace(\" \", \"\")  # Remove spaces and convert to lowercase\n",
    "  return cleaned_string == cleaned_string[::-1]\n",
    "\n",
    "string = \"A man a plan a canal Panama\"\n",
    "is_palindrome_result = is_palindrome(string)\n",
    "print(is_palindrome_result) \n"
   ]
  },
  {
   "cell_type": "markdown",
   "metadata": {},
   "source": [
    "4. Write a code to check if two given strings are anagrams of each other."
   ]
  },
  {
   "cell_type": "code",
   "execution_count": 16,
   "metadata": {},
   "outputs": [
    {
     "name": "stdout",
     "output_type": "stream",
     "text": [
      "True\n"
     ]
    }
   ],
   "source": [
    "def are_anagrams(string1, string2):\n",
    "  \"\"\"Checks if two strings are anagrams.\"\"\"\n",
    "  return sorted(string1.lower()) == sorted(string2.lower())\n",
    "\n",
    "string1 = \"listen\"\n",
    "string2 = \"silent\"\n",
    "are_anagrams_result = are_anagrams(string1, string2)\n",
    "print(are_anagrams_result) \n"
   ]
  },
  {
   "cell_type": "markdown",
   "metadata": {},
   "source": [
    "5. Write a code to find all occurrences of a given substring within another string."
   ]
  },
  {
   "cell_type": "code",
   "execution_count": 17,
   "metadata": {},
   "outputs": [
    {
     "name": "stdout",
     "output_type": "stream",
     "text": [
      "[0, 12]\n"
     ]
    }
   ],
   "source": [
    "def find_substring_occurrences(string, substring):\n",
    "  \"\"\"Finds all occurrences of a substring within a string.\"\"\"\n",
    "  start_index = 0\n",
    "  occurrences = []\n",
    "  while True:\n",
    "    index = string.find(substring, start_index)\n",
    "    if index == -1:\n",
    "      break\n",
    "    occurrences.append(index)\n",
    "    start_index = index + 1\n",
    "  return occurrences\n",
    "\n",
    "string = \"hello world hello\"\n",
    "substring = \"hello\"\n",
    "occurrences = find_substring_occurrences(string, substring)\n",
    "print(occurrences) \n"
   ]
  },
  {
   "cell_type": "markdown",
   "metadata": {},
   "source": [
    "6. Write a code to perform basic string compression using the counts of repeated characters."
   ]
  },
  {
   "cell_type": "code",
   "execution_count": 18,
   "metadata": {},
   "outputs": [
    {
     "name": "stdout",
     "output_type": "stream",
     "text": [
      "a2b1c4a3\n"
     ]
    }
   ],
   "source": [
    "def compress_string(string):\n",
    "  \"\"\"Performs basic string compression.\"\"\"\n",
    "  compressed_string = \"\"\n",
    "  count = 1\n",
    "  for i in range(1, len(string)):\n",
    "    if string[i] == string[i - 1]:\n",
    "      count += 1\n",
    "    else:\n",
    "      compressed_string += string[i - 1] + str(count)\n",
    "      count = 1\n",
    "  compressed_string += string[-1] + str(count)\n",
    "  return compressed_string\n",
    "\n",
    "\n",
    "string = \"aabccccaaa\"\n",
    "compressed_string = compress_string(string)\n",
    "print(compressed_string)\n"
   ]
  },
  {
   "cell_type": "markdown",
   "metadata": {},
   "source": [
    "7. Write a code to determine if a string has all unique characters."
   ]
  },
  {
   "cell_type": "code",
   "execution_count": 19,
   "metadata": {},
   "outputs": [
    {
     "name": "stdout",
     "output_type": "stream",
     "text": [
      "False\n"
     ]
    }
   ],
   "source": [
    "def has_unique_characters(string):\n",
    "  \"\"\"Determines if a string has all unique characters.\"\"\"\n",
    "  char_set = set()\n",
    "  for char in string:\n",
    "    if char in char_set:\n",
    "      return False\n",
    "    char_set.add(char)\n",
    "  return True\n",
    "\n",
    "string = \"hello\"\n",
    "has_unique_characters_result = has_unique_characters(string)\n",
    "print(has_unique_characters_result)  \n"
   ]
  },
  {
   "cell_type": "markdown",
   "metadata": {},
   "source": [
    "8. Write a code to convert a given string to uppercase or lowercase."
   ]
  },
  {
   "cell_type": "code",
   "execution_count": 20,
   "metadata": {},
   "outputs": [
    {
     "name": "stdout",
     "output_type": "stream",
     "text": [
      "VELISTON ROCHA\n",
      "veliston rocha\n"
     ]
    }
   ],
   "source": [
    "def convert_case(string, case):\n",
    "  \"\"\"Converts a string to uppercase or lowercase.\"\"\"\n",
    "  if case == \"upper\":\n",
    "    return string.upper()\n",
    "  elif case == \"lower\":\n",
    "    return string.lower()\n",
    "  else:\n",
    "    return \"Invalid case\"\n",
    "\n",
    "string = \"Veliston Rocha\"\n",
    "upper_case_string = convert_case(string, \"upper\")\n",
    "lower_case_string = convert_case(string, \"lower\")\n",
    "print(upper_case_string)  \n",
    "print(lower_case_string) \n"
   ]
  },
  {
   "cell_type": "markdown",
   "metadata": {},
   "source": [
    "9. Write a code to count the number of words in a string."
   ]
  },
  {
   "cell_type": "code",
   "execution_count": 21,
   "metadata": {},
   "outputs": [
    {
     "name": "stdout",
     "output_type": "stream",
     "text": [
      "4\n"
     ]
    }
   ],
   "source": [
    "def count_words(string):\n",
    "  \"\"\"Counts the number of words in a string.\"\"\"\n",
    "  return len(string.split())\n",
    "\n",
    "\n",
    "string = \"Hello, how are you?\"\n",
    "word_count = count_words(string)\n",
    "print(word_count) \n"
   ]
  },
  {
   "cell_type": "markdown",
   "metadata": {},
   "source": [
    "10. Write a code to concatenate two strings without using the + operator."
   ]
  },
  {
   "cell_type": "code",
   "execution_count": 41,
   "metadata": {},
   "outputs": [
    {
     "name": "stdout",
     "output_type": "stream",
     "text": [
      "helloworld\n"
     ]
    }
   ],
   "source": [
    "def concatenate_strings(string1, string2):\n",
    "  \"\"\"Concatenates two strings without using the + operator.\"\"\"\n",
    "  new_string = \"\"\n",
    "  new_string += string1\n",
    "  new_string += string2\n",
    "  return new_string\n",
    "\n",
    "\n",
    "string1 = \"hello\"\n",
    "string2 = \"world\"\n",
    "concatenated_string = concatenate_strings(string1, string2)\n",
    "print(concatenated_string) \n"
   ]
  },
  {
   "cell_type": "markdown",
   "metadata": {},
   "source": [
    "11. Write a code to remove all occurrences of a specific element from a list."
   ]
  },
  {
   "cell_type": "code",
   "execution_count": 23,
   "metadata": {},
   "outputs": [
    {
     "name": "stdout",
     "output_type": "stream",
     "text": [
      "[1, 3, 4]\n"
     ]
    }
   ],
   "source": [
    "def remove_element(list, element):\n",
    "  \"\"\"Removes all occurrences of a specific element from a list.\"\"\"\n",
    "  return [item for item in list if item != element]\n",
    "\n",
    "list = [1, 2, 3, 2, 4, 2]\n",
    "element = 2\n",
    "new_list = remove_element(list, element)\n",
    "print(new_list)"
   ]
  },
  {
   "cell_type": "markdown",
   "metadata": {},
   "source": [
    "12. Implement a code to find the second largest number in a given list of integers."
   ]
  },
  {
   "cell_type": "code",
   "execution_count": 24,
   "metadata": {},
   "outputs": [
    {
     "name": "stdout",
     "output_type": "stream",
     "text": [
      "7\n"
     ]
    }
   ],
   "source": [
    "def find_second_largest(numbers):\n",
    "  \"\"\"Finds the second largest number in a list.\"\"\"\n",
    "  if len(numbers) < 2:\n",
    "    return None\n",
    "  largest = max(numbers)\n",
    "  second_largest = None\n",
    "  for num in numbers:\n",
    "    if num != largest and (second_largest is None or num > second_largest):\n",
    "      second_largest = num\n",
    "  return second_largest\n",
    "\n",
    "numbers = [3, 7, 2, 9, 5]\n",
    "second_largest_number = find_second_largest(numbers)\n",
    "print(second_largest_number)  \n"
   ]
  },
  {
   "cell_type": "markdown",
   "metadata": {},
   "source": [
    "13. Create a code to count the occurrences of each element in a list and return a dictionary with elements as keys and their counts as values."
   ]
  },
  {
   "cell_type": "code",
   "execution_count": 25,
   "metadata": {},
   "outputs": [
    {
     "name": "stdout",
     "output_type": "stream",
     "text": [
      "{1: 2, 2: 2, 3: 1, 4: 1}\n"
     ]
    }
   ],
   "source": [
    "def count_occurrences(list):\n",
    "  \"\"\"Counts the occurrences of each element in a list.\"\"\"\n",
    "  counts = {}\n",
    "  for element in list:\n",
    "    counts[element] = counts.get(element, 0) + 1\n",
    "  return counts\n",
    "\n",
    "list = [1, 2, 2, 3, 1, 4]\n",
    "occurrences = count_occurrences(list)\n",
    "print(occurrences) \n"
   ]
  },
  {
   "cell_type": "markdown",
   "metadata": {},
   "source": [
    "14. Write a code to reverse a list in-place without using any built-in reverse functions."
   ]
  },
  {
   "cell_type": "code",
   "execution_count": 26,
   "metadata": {},
   "outputs": [
    {
     "name": "stdout",
     "output_type": "stream",
     "text": [
      "[5, 4, 3, 2, 1]\n"
     ]
    }
   ],
   "source": [
    "def reverse_list(list):\n",
    "  \"\"\"Reverses a list in-place.\"\"\"\n",
    "  left = 0\n",
    "  right = len(list) - 1\n",
    "  while left < right:\n",
    "    list[left], list[right] = list[right], list[left]\n",
    "    left += 1\n",
    "    right -= 1\n",
    "\n",
    "list = [1, 2, 3, 4, 5]\n",
    "reverse_list(list)\n",
    "print(list)  \n"
   ]
  },
  {
   "cell_type": "markdown",
   "metadata": {},
   "source": [
    "15. Implement a code to find and remove duplicates from a list while preserving the original order of elements."
   ]
  },
  {
   "cell_type": "code",
   "execution_count": 44,
   "metadata": {},
   "outputs": [
    {
     "data": {
      "text/plain": [
       "[23, 74, 12, 83, 22, 40, 21]"
      ]
     },
     "execution_count": 44,
     "metadata": {},
     "output_type": "execute_result"
    }
   ],
   "source": [
    "def remove_duplicates(lst):\n",
    "  \"\"\"Removes duplicates from a list while preserving order.\"\"\"\n",
    "  seen = set()\n",
    "  result = []\n",
    "  for item in lst:\n",
    "    if item not in seen:\n",
    "      seen.add(item)\n",
    "      result.append(item)\n",
    "  return result\n",
    "\n",
    "l1 = [23,74,12,83,83,22,22,22,40,21]\n",
    "\n",
    "remove_duplicates(l1)\n"
   ]
  },
  {
   "cell_type": "markdown",
   "metadata": {},
   "source": [
    "16. Create a code to check if a given list is sorted (either in ascending or descending order) or not."
   ]
  },
  {
   "cell_type": "code",
   "execution_count": 25,
   "metadata": {},
   "outputs": [
    {
     "name": "stdout",
     "output_type": "stream",
     "text": [
      "List 1 sorted: True\n",
      "List 2 sorted: True\n",
      "List 3 sorted: False\n"
     ]
    }
   ],
   "source": [
    "def is_sorted(lst):\n",
    "    ascending = all(lst[i] <= lst[i + 1] for i in range(len(lst) - 1))\n",
    "    descending = all(lst[i] >= lst[i + 1] for i in range(len(lst) - 1))\n",
    "    return ascending or descending\n",
    "\n",
    "lst1 = [1, 2, 3, 4, 5]\n",
    "lst2 = [5, 4, 3, 2, 1]\n",
    "lst3 = [3, 1, 4, 2]\n",
    "print(\"List 1 sorted:\", is_sorted(lst1)) \n",
    "print(\"List 2 sorted:\", is_sorted(lst2)) \n",
    "print(\"List 3 sorted:\", is_sorted(lst3))  \n"
   ]
  },
  {
   "cell_type": "markdown",
   "metadata": {},
   "source": [
    "17. Write a code to merge two sorted lists into a single sorted list."
   ]
  },
  {
   "cell_type": "code",
   "execution_count": 27,
   "metadata": {},
   "outputs": [
    {
     "name": "stdout",
     "output_type": "stream",
     "text": [
      "Merged list: [1, 2, 3, 4, 5, 6]\n"
     ]
    }
   ],
   "source": [
    "def merge_sort(lst1, lst2):\n",
    "    merged_list = []\n",
    "    i = j = 0\n",
    "    while i < len(lst1) and j < len(lst2):\n",
    "        if lst1[i] < lst2[j]:\n",
    "            merged_list.append(lst1[i])\n",
    "            i += 1\n",
    "        else:\n",
    "            merged_list.append(lst2[j])\n",
    "            j += 1\n",
    "    merged_list.extend(lst1[i:])\n",
    "    merged_list.extend(lst2[j:])\n",
    "    return merged_list\n",
    "\n",
    "lst1 = [1, 3, 5]\n",
    "lst2 = [2, 4, 6]\n",
    "print(\"Merged list:\", merge_sort(lst1, lst2)) \n"
   ]
  },
  {
   "cell_type": "markdown",
   "metadata": {},
   "source": [
    "18. Implement a code to find the intersection of two given lists."
   ]
  },
  {
   "cell_type": "code",
   "execution_count": 29,
   "metadata": {},
   "outputs": [
    {
     "name": "stdout",
     "output_type": "stream",
     "text": [
      "Intersection of lists: [3, 4]\n"
     ]
    }
   ],
   "source": [
    "def intersection(lst1, lst2):\n",
    "    return list(set(lst1) & set(lst2))\n",
    "\n",
    "lst1 = [1, 2, 3, 4]\n",
    "lst2 = [3, 4, 5, 6]\n",
    "print(\"Intersection of lists:\", intersection(lst1, lst2)) \n"
   ]
  },
  {
   "cell_type": "markdown",
   "metadata": {},
   "source": [
    "19. Create a code to find the union of two lists without duplicates."
   ]
  },
  {
   "cell_type": "code",
   "execution_count": 30,
   "metadata": {},
   "outputs": [
    {
     "name": "stdout",
     "output_type": "stream",
     "text": [
      "Union of lists: [1, 2, 3, 4, 5, 6]\n"
     ]
    }
   ],
   "source": [
    "\n",
    "def union(lst1, lst2):\n",
    "    return list(set(lst1) | set(lst2))\n",
    "\n",
    "lst1 = [1, 2, 3, 4]\n",
    "lst2 = [3, 4, 5, 6]\n",
    "print(\"Union of lists:\", union(lst1, lst2)) \n"
   ]
  },
  {
   "cell_type": "markdown",
   "metadata": {},
   "source": [
    "20. Write a code to shuffle a given list randomly without using any built-in shuffle functions."
   ]
  },
  {
   "cell_type": "code",
   "execution_count": 32,
   "metadata": {},
   "outputs": [
    {
     "name": "stdout",
     "output_type": "stream",
     "text": [
      "Original list: [1, 2, 3, 4, 5]\n",
      "Shuffled list: [4, 1, 2, 5, 3]\n"
     ]
    }
   ],
   "source": [
    "import random\n",
    "\n",
    "def shuffle(lst):\n",
    "    for i in range(len(lst) - 1, 0, -1):\n",
    "        j = random.randint(0, i)\n",
    "        lst[i], lst[j] = lst[j], lst[i]\n",
    "    return lst\n",
    "\n",
    "lst = [1, 2, 3, 4, 5]\n",
    "print(\"Original list:\", lst)\n",
    "print(\"Shuffled list:\", shuffle(lst.copy()))\n"
   ]
  },
  {
   "cell_type": "markdown",
   "metadata": {},
   "source": [
    "21. Write a code that takes two tuples as input and returns a new tuple containing elements that are common to both input tuples."
   ]
  },
  {
   "cell_type": "code",
   "execution_count": 33,
   "metadata": {},
   "outputs": [
    {
     "name": "stdout",
     "output_type": "stream",
     "text": [
      "Common elements: (3, 4)\n"
     ]
    }
   ],
   "source": [
    "def common_elements(t1, t2):\n",
    "    return tuple(set(t1) & set(t2))\n",
    "\n",
    "t1 = (1, 2, 3, 4)\n",
    "t2 = (3, 4, 5, 6)\n",
    "print(\"Common elements:\", common_elements(t1, t2)) \n"
   ]
  },
  {
   "cell_type": "markdown",
   "metadata": {},
   "source": [
    "22. Create a code that prompts the user to enter two sets of integers separated by commas. Then, print the intersection of these two sets."
   ]
  },
  {
   "cell_type": "code",
   "execution_count": 40,
   "metadata": {},
   "outputs": [
    {
     "name": "stdout",
     "output_type": "stream",
     "text": [
      "Intersection of the two sets: {44}\n"
     ]
    }
   ],
   "source": [
    "def intersection_user():\n",
    "    set1 = set(map(int, input(\"Enter the first set of integers (separated by commas): \").split(',')))\n",
    "    set2 = set(map(int, input(\"Enter the second set of integers (separated by commas): \").split(',')))\n",
    "    intersection = set1 & set2\n",
    "    print(\"Intersection of the two sets:\", intersection)\n",
    "\n",
    "intersection_user()\n"
   ]
  },
  {
   "cell_type": "markdown",
   "metadata": {},
   "source": [
    "23. Write a code to concatenate two tuples. The function should take two tuples as input and return a new tuple containing elements from both input tuples."
   ]
  },
  {
   "cell_type": "code",
   "execution_count": 38,
   "metadata": {},
   "outputs": [
    {
     "name": "stdout",
     "output_type": "stream",
     "text": [
      "Concatenated tuple: (1, 2, 3, 4, 5, 6)\n"
     ]
    }
   ],
   "source": [
    "def concatenate_tuples(t1, t2):\n",
    "    return t1 + t2\n",
    "\n",
    "t1 = (1, 2, 3)\n",
    "t2 = (4, 5, 6)\n",
    "print(\"Concatenated tuple:\", concatenate_tuples(t1, t2))\n"
   ]
  },
  {
   "cell_type": "markdown",
   "metadata": {},
   "source": [
    "24. Develop a code that prompts the user to input two sets of strings. Then, print the elements that are present in the first set but not in the second set."
   ]
  },
  {
   "cell_type": "code",
   "execution_count": 2,
   "metadata": {},
   "outputs": [
    {
     "name": "stdout",
     "output_type": "stream",
     "text": [
      "Elements present in the first set but not in the second set: {'Python'}\n"
     ]
    }
   ],
   "source": [
    "def difference_of_sets():\n",
    "    set1 = set(input(\"Enter the first set of strings : \").split())\n",
    "    set2 = set(input(\"Enter the second set of strings : \").split())\n",
    "    difference = set1 - set2\n",
    "    print(\"Elements present in the first set but not in the second set:\", difference)\n",
    "\n",
    "difference_of_sets()\n"
   ]
  },
  {
   "cell_type": "markdown",
   "metadata": {},
   "source": [
    "25. Create a code that takes a tuple and two integers as input. The function should return a new tuple containing elements from the original tuple within the specified range of indices."
   ]
  },
  {
   "cell_type": "code",
   "execution_count": 4,
   "metadata": {},
   "outputs": [
    {
     "name": "stdout",
     "output_type": "stream",
     "text": [
      "Original tuple: (1, 2, 3, 4, 5, 6)\n",
      "Sliced tuple: (3, 4, 5)\n"
     ]
    }
   ],
   "source": [
    "def slice_tuple(t, start, end):\n",
    "    return t[start:end]\n",
    "\n",
    "t = (1, 2, 3, 4, 5, 6)\n",
    "start = 2\n",
    "end = 5\n",
    "print(\"Original tuple:\", t)\n",
    "print(\"Sliced tuple:\", slice_tuple(t, start, end))\n"
   ]
  },
  {
   "cell_type": "markdown",
   "metadata": {},
   "source": [
    "26. Write a code that prompts the user to input two sets of characters. Then, print the union of these two sets."
   ]
  },
  {
   "cell_type": "code",
   "execution_count": 6,
   "metadata": {},
   "outputs": [
    {
     "name": "stdout",
     "output_type": "stream",
     "text": [
      "Union of the two sets: {'Learning', 'Science', 'Machine', 'Data'}\n"
     ]
    }
   ],
   "source": [
    "def union_of_sets():\n",
    "    set1 = set(input(\"Enter the first set of characters : \").split())\n",
    "    set2 = set(input(\"Enter the second set of characters : \").split())\n",
    "    union = set1 | set2\n",
    "    print(\"Union of the two sets:\", union)\n",
    "\n",
    "union_of_sets()\n"
   ]
  },
  {
   "cell_type": "markdown",
   "metadata": {},
   "source": [
    "27. Develop a code that takes a tuple of integers as input. The function should return the maximum and minimum values from the tuple using tuple unpacking."
   ]
  },
  {
   "cell_type": "code",
   "execution_count": 8,
   "metadata": {},
   "outputs": [
    {
     "name": "stdout",
     "output_type": "stream",
     "text": [
      "Tuple: (1, 2, 3, 4, 5, 6)\n",
      "Maximum value: 6\n",
      "Minimum value: 1\n"
     ]
    }
   ],
   "source": [
    "\n",
    "def max_min_tuple(t):\n",
    "    max_val = max(t)\n",
    "    min_val = min(t)\n",
    "    return max_val, min_val\n",
    "\n",
    "t = (1, 2, 3, 4, 5, 6)\n",
    "max_val, min_val = max_min_tuple(t)\n",
    "print(\"Tuple:\", t)\n",
    "print(\"Maximum value:\", max_val)\n",
    "print(\"Minimum value:\", min_val)\n"
   ]
  },
  {
   "cell_type": "markdown",
   "metadata": {},
   "source": [
    "28. Create a code that defines two sets of integers. Then, print the union, intersection, and difference of these two sets."
   ]
  },
  {
   "cell_type": "code",
   "execution_count": 10,
   "metadata": {},
   "outputs": [
    {
     "name": "stdout",
     "output_type": "stream",
     "text": [
      "Set 1: {1, 2, 3, 4}\n",
      "Set 2: {3, 4, 5, 6}\n",
      "Union: {1, 2, 3, 4, 5, 6}\n",
      "Intersection: {3, 4}\n",
      "Difference: {1, 2}\n"
     ]
    }
   ],
   "source": [
    "def set_operations():\n",
    "    set1 = {1, 2, 3, 4}\n",
    "    set2 = {3, 4, 5, 6}\n",
    "    \n",
    "    union = set1 | set2\n",
    "    intersection = set1 & set2\n",
    "    difference = set1 - set2\n",
    "    \n",
    "    print(\"Set 1:\", set1)\n",
    "    print(\"Set 2:\", set2)\n",
    "    print(\"Union:\", union)\n",
    "    print(\"Intersection:\", intersection)\n",
    "    print(\"Difference:\", difference)\n",
    "\n",
    "set_operations()\n"
   ]
  },
  {
   "cell_type": "markdown",
   "metadata": {},
   "source": [
    "29. Write a code that takes a tuple and an element as input. The function should return the count of occurrences of the given element in the tuple."
   ]
  },
  {
   "cell_type": "code",
   "execution_count": 12,
   "metadata": {},
   "outputs": [
    {
     "name": "stdout",
     "output_type": "stream",
     "text": [
      "Tuple: (1, 2, 3, 2, 4, 2, 5)\n",
      "Element to count: 2\n",
      "Count of element: 3\n"
     ]
    }
   ],
   "source": [
    "def count_element(t, element):\n",
    "    return t.count(element)\n",
    "\n",
    "t = (1, 2, 3, 2, 4, 2, 5)\n",
    "element = 2\n",
    "print(\"Tuple:\", t)\n",
    "print(\"Element to count:\", element)\n",
    "print(\"Count of element:\", count_element(t, element))\n"
   ]
  },
  {
   "cell_type": "markdown",
   "metadata": {},
   "source": [
    "30. Develop a code that prompts the user to input two sets of strings. Then, print the symmetric difference of these two sets."
   ]
  },
  {
   "cell_type": "code",
   "execution_count": 13,
   "metadata": {},
   "outputs": [
    {
     "name": "stdout",
     "output_type": "stream",
     "text": [
      "Symmetric difference of the two sets: {'name', 'is', 'veliston', 'my', 'you', 'are', 'how'}\n"
     ]
    }
   ],
   "source": [
    "def symmetric_difference_of_sets():\n",
    "    set1 = set(input(\"Enter the first set of strings : \").split())\n",
    "    set2 = set(input(\"Enter the second set of strings : \").split())\n",
    "    symmetric_difference = set1 ^ set2\n",
    "    print(\"Symmetric difference of the two sets:\", symmetric_difference)\n",
    "\n",
    "symmetric_difference_of_sets()\n"
   ]
  },
  {
   "cell_type": "markdown",
   "metadata": {},
   "source": [
    "31. Write a code that takes a list of words as input and returns a dictionary where the keys are unique words and the values are the frequencies of those words in the input list."
   ]
  },
  {
   "cell_type": "code",
   "execution_count": 16,
   "metadata": {},
   "outputs": [
    {
     "name": "stdout",
     "output_type": "stream",
     "text": [
      "List of words: ['apple', 'banana', 'apple', 'orange', 'banana', 'apple']\n",
      "Word frequencies: {'apple': 3, 'banana': 2, 'orange': 1}\n"
     ]
    }
   ],
   "source": [
    "def word_freq(words):\n",
    "    freq_dict = {}\n",
    "    for word in words:\n",
    "        if word in freq_dict:\n",
    "            freq_dict[word] += 1\n",
    "        else:\n",
    "            freq_dict[word] = 1\n",
    "    return freq_dict\n",
    "\n",
    "words = [\"apple\", \"banana\", \"apple\", \"orange\", \"banana\", \"apple\"]\n",
    "print(\"List of words:\", words)\n",
    "print(\"Word frequencies:\", word_freq(words))\n"
   ]
  },
  {
   "cell_type": "markdown",
   "metadata": {},
   "source": [
    "32. Write a code that takes two dictionaries as input and merges them into a single dictionary. If there are common keys, the values should be added together."
   ]
  },
  {
   "cell_type": "code",
   "execution_count": 18,
   "metadata": {},
   "outputs": [
    {
     "name": "stdout",
     "output_type": "stream",
     "text": [
      "Dictionary 1: {'a': 1, 'b': 2, 'c': 3}\n",
      "Dictionary 2: {'b': 3, 'c': 4, 'd': 5}\n",
      "Merged dictionary: {'a': 1, 'b': 5, 'c': 7, 'd': 5}\n"
     ]
    }
   ],
   "source": [
    "def merge_dictionaries(dict1, dict2):\n",
    "    merged_dict = dict1.copy()  \n",
    "    for key, value in dict2.items():\n",
    "        if key in merged_dict:\n",
    "            merged_dict[key] += value\n",
    "        else:\n",
    "            merged_dict[key] = value\n",
    "    return merged_dict\n",
    "\n",
    "dict1 = {'a': 1, 'b': 2, 'c': 3}\n",
    "dict2 = {'b': 3, 'c': 4, 'd': 5}\n",
    "print(\"Dictionary 1:\", dict1)\n",
    "print(\"Dictionary 2:\", dict2)\n",
    "print(\"Merged dictionary:\", merge_dictionaries(dict1, dict2))\n"
   ]
  },
  {
   "cell_type": "markdown",
   "metadata": {},
   "source": [
    "33. Write a code to access a value in a nested dictionary. The function should take the dictionary and a list of keys as input, and return the corresponding value. If any of the keys do not exist in the dictionary, the function should return None."
   ]
  },
  {
   "cell_type": "code",
   "execution_count": 20,
   "metadata": {},
   "outputs": [
    {
     "name": "stdout",
     "output_type": "stream",
     "text": [
      "Nested dictionary: {'a': {'b': {'c': 42}}}\n",
      "Keys to access: ['a', 'b', 'c']\n",
      "Accessed value: 42\n"
     ]
    }
   ],
   "source": [
    "def access_value(nested_dict, keys):\n",
    "    current_value = nested_dict\n",
    "    try:\n",
    "        for key in keys:\n",
    "            current_value = current_value[key]\n",
    "        return current_value\n",
    "    except KeyError:\n",
    "        return None\n",
    "\n",
    "nested_dict = {'a': {'b': {'c': 42}}}\n",
    "keys = ['a', 'b', 'c']\n",
    "print(\"Nested dictionary:\", nested_dict)\n",
    "print(\"Keys to access:\", keys)\n",
    "print(\"Accessed value:\", access_value(nested_dict, keys))\n"
   ]
  },
  {
   "cell_type": "markdown",
   "metadata": {},
   "source": [
    "34. Write a code that takes a dictionary as input and returns a sorted version of it based on the values. You can choose whether to sort in ascending or descending order."
   ]
  },
  {
   "cell_type": "code",
   "execution_count": 22,
   "metadata": {},
   "outputs": [
    {
     "name": "stdout",
     "output_type": "stream",
     "text": [
      "Original dictionary: {'a': 3, 'b': 1, 'c': 2}\n",
      "Dictionary sorted in ascending order: {'b': 1, 'c': 2, 'a': 3}\n",
      "Dictionary sorted in descending order: {'a': 3, 'c': 2, 'b': 1}\n"
     ]
    }
   ],
   "source": [
    "def sort_dict(d, ascending=True):\n",
    "    sorted_items = sorted(d.items(), key=lambda item: item[1], reverse=not ascending)\n",
    "    return dict(sorted_items)\n",
    "\n",
    "d = {'a': 3, 'b': 1, 'c': 2}\n",
    "print(\"Original dictionary:\", d)\n",
    "print(\"Dictionary sorted in ascending order:\", sort_dict(d))\n",
    "print(\"Dictionary sorted in descending order:\", sort_dict(d, ascending=False))\n"
   ]
  },
  {
   "cell_type": "markdown",
   "metadata": {},
   "source": [
    "35. Write a code that inverts a dictionary, swapping keys and values. Ensure that the inverted dictionary correctly handles cases where multiple keys have the same value by storing the keys as a list in the inverted dictionary."
   ]
  },
  {
   "cell_type": "code",
   "execution_count": 24,
   "metadata": {},
   "outputs": [
    {
     "name": "stdout",
     "output_type": "stream",
     "text": [
      "Original dictionary: {'a': 1, 'b': 2, 'c': 1}\n",
      "Inverted dictionary: {1: ['a', 'c'], 2: ['b']}\n"
     ]
    }
   ],
   "source": [
    "def invert_dict(d):\n",
    "    inverted_dict = {}\n",
    "    for key, value in d.items():\n",
    "        if value in inverted_dict:\n",
    "            inverted_dict[value].append(key)\n",
    "        else:\n",
    "            inverted_dict[value] = [key]\n",
    "    return inverted_dict\n",
    "\n",
    "\n",
    "d = {'a': 1, 'b': 2, 'c': 1}\n",
    "print(\"Original dictionary:\", d)\n",
    "print(\"Inverted dictionary:\", invert_dict(d))\n"
   ]
  }
 ],
 "metadata": {
  "kernelspec": {
   "display_name": "Python 3",
   "language": "python",
   "name": "python3"
  },
  "language_info": {
   "codemirror_mode": {
    "name": "ipython",
    "version": 3
   },
   "file_extension": ".py",
   "mimetype": "text/x-python",
   "name": "python",
   "nbconvert_exporter": "python",
   "pygments_lexer": "ipython3",
   "version": "3.12.2"
  }
 },
 "nbformat": 4,
 "nbformat_minor": 2
}
